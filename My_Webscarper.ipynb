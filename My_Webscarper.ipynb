{
 "cells": [
  {
   "cell_type": "code",
   "execution_count": 3,
   "id": "8ab3ce4e",
   "metadata": {},
   "outputs": [],
   "source": [
    "from bs4 import BeautifulSoup"
   ]
  },
  {
   "cell_type": "code",
   "execution_count": 1,
   "id": "ad54fc95",
   "metadata": {},
   "outputs": [],
   "source": [
    "import requests as rq\n",
    "import numpy as np\n",
    "import pandas as pd"
   ]
  },
  {
   "cell_type": "code",
   "execution_count": 42,
   "id": "2518e2d5",
   "metadata": {},
   "outputs": [
    {
     "name": "stdout",
     "output_type": "stream",
     "text": [
      "    Unnamed: 0          Job Title  \\\n",
      "0            0    Python Engineer   \n",
      "1            1   PYTHON DEVELOPER   \n",
      "2            2   Python Developer   \n",
      "3            3   Python Developer   \n",
      "4            4      Python - Odoo   \n",
      "5            5   Python Developer   \n",
      "6            6   Python Developer   \n",
      "7            7   Python Developer   \n",
      "8            8  Python Automation   \n",
      "9            9   Python Developer   \n",
      "10          10   Python Developer   \n",
      "11          11   Python Developer   \n",
      "12          12   Python Developer   \n",
      "13          13   Python Developer   \n",
      "14          14   Python Developer   \n",
      "15          15   Python developer   \n",
      "16          16   Python Developer   \n",
      "17          17   Python Developer   \n",
      "18          18   Python Developer   \n",
      "19          19   Python Developer   \n",
      "20          20   Python Developer   \n",
      "21          21   Python Developer   \n",
      "22          22   Python Developer   \n",
      "23          23   Python Developer   \n",
      "24          24   Python Developer   \n",
      "\n",
      "                                              Company               Posted  \n",
      "0                  east india securities ltd.            Posted 2 days ago  \n",
      "1                      DREAMAJAX TECHNOLOGIES            Posted 3 days ago  \n",
      "2            InnOvator Web Solutions Pvt.Ltd.            Posted 3 days ago  \n",
      "3                      pearl global solutions            Posted 3 days ago  \n",
      "4                              AxisTechnolabs            Posted 3 days ago  \n",
      "5           Sourcedesk Global Private Limited            Posted 4 days ago  \n",
      "6                           CONNECTING 2 WORK            Posted 6 days ago  \n",
      "7       glan management consultancy pvt. ltd.          Posted few days ago  \n",
      "8                                      GS LAB             Posted 1 day ago  \n",
      "9                     Ivan Infotech Pvt. Ltd.          Posted few days ago  \n",
      "10                             AxisTechnolabs            Posted 3 days ago  \n",
      "11             Doodleblue Innovations Pvt Ltd            Posted 3 days ago  \n",
      "12                          gammastack indore            Posted 3 days ago  \n",
      "13                           WBC Software Lab            Posted 3 days ago  \n",
      "14                              NuageBiz.Tech            Posted 3 days ago  \n",
      "15                             AxisTechnolabs            Posted 3 days ago  \n",
      "16      pegasus knowledge solutions india pvt ltd....    Posted 3 days ago  \n",
      "17                          Techasoft Pvt Ltd            Posted 3 days ago  \n",
      "18                             Fluper Limited            Posted 3 days ago  \n",
      "19                    Cybage Software Pvt Ltd            Posted 4 days ago  \n",
      "20                    Wing Global IT Services          Posted few days ago  \n",
      "21                          CONNECTING 2 WORK            Posted 6 days ago  \n",
      "22                         RAYVAT Outsourcing             Posted 1 day ago  \n",
      "23      art technology and software india pvt ltd ...  Posted few days ago  \n",
      "24                        Root Info Solutions          Posted few days ago  \n"
     ]
    }
   ],
   "source": [
    "html_file = rq.get('https://www.timesjobs.com/candidate/job-search.html?searchType=personalizedSearch&from=submit&txtKeywords=Python&txtLocation=').text\n",
    "\n",
    "soup = BeautifulSoup(html_file, 'lxml')\n",
    "jobs = soup.find_all('li', class_='clearfix')\n",
    "\n",
    "jobs_repo = {'Job Title': [], 'Company': [], 'Posted': []}\n",
    "\n",
    "for i in range(len(jobs)):\n",
    "    \n",
    "    if i == 0: continue\n",
    "    job_title = jobs[i].a.text.replace('\\n', '')\n",
    "    company = jobs[i].find('h3', class_=\"joblist-comp-name\").text.replace('\\r' '\\n', '')\n",
    "    posted = jobs[i].find('span', class_='sim-posted').span.text.replace('\\n', '')\n",
    "    \n",
    "    jobs_repo['Job Title'].append(job_title)\n",
    "    jobs_repo['Company'].append(company)\n",
    "    jobs_repo['Posted'].append(posted)\n",
    "    \n",
    "\n",
    "# print(jobs_repo)\n",
    "\n",
    "\n",
    "df = pd.DataFrame(jobs_repo)\n",
    "df.to_csv('read_file.csv')\n",
    "\n",
    "\n"
   ]
  },
  {
   "cell_type": "code",
   "execution_count": null,
   "id": "9547f5da",
   "metadata": {},
   "outputs": [],
   "source": []
  }
 ],
 "metadata": {
  "kernelspec": {
   "display_name": "Python 3 (ipykernel)",
   "language": "python",
   "name": "python3"
  },
  "language_info": {
   "codemirror_mode": {
    "name": "ipython",
    "version": 3
   },
   "file_extension": ".py",
   "mimetype": "text/x-python",
   "name": "python",
   "nbconvert_exporter": "python",
   "pygments_lexer": "ipython3",
   "version": "3.11.5"
  }
 },
 "nbformat": 4,
 "nbformat_minor": 5
}
